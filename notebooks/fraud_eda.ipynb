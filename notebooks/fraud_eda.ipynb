{
 "cells": [
  {
   "cell_type": "markdown",
   "metadata": {},
   "source": [
    "# Online Payments Fraud Detection"
   ]
  },
  {
   "cell_type": "markdown",
   "metadata": {},
   "source": [
    "Card fraud (or in-store payment fraud) is expected to decline over the next decade. However, cardless transactions (such as  online or  phone payments) continue to grow as a percentage of total spending and  are much more susceptible to fraud.\n",
    "\n",
    "Payment fraud involves the unauthorized use of false or stolen payment information with the intent to steal money, goods, or services. (https://www.checkout.com/blog/common-types-of-online-payment-fraud) "
   ]
  },
  {
   "cell_type": "markdown",
   "metadata": {},
   "source": [
    "### About Dataset\n",
    "The below column reference:\n",
    "\n",
    "1. **step**: represents a unit of time where 1 step equals 1 hour\n",
    "2. **type**: type of online transaction\n",
    "3. **amount**: the amount of the transaction\n",
    "4. **nameOrig**: customer starting the transaction\n",
    "5. **oldbalanceOrg**: balance before the transaction\n",
    "6. **newbalanceOrig**: balance after the transaction\n",
    "7. **nameDest**: recipient of the transaction\n",
    "8. **oldbalanceDest**: initial balance of recipient before the transaction\n",
    "9. **newbalanceDest**: the new balance of recipient after the transaction\n",
    "10. **isFraud**: fraud transaction"
   ]
  },
  {
   "cell_type": "markdown",
   "metadata": {},
   "source": [
    "## Import Libraries and Dataset"
   ]
  },
  {
   "cell_type": "code",
   "execution_count": 1,
   "metadata": {},
   "outputs": [],
   "source": [
    "import pandas as pd\n",
    "import numpy as np\n",
    "import matplotlib.pyplot as plt\n",
    "import seaborn as sns\n",
    "import warnings\n",
    "warnings.filterwarnings('ignore')\n",
    "pd.options.display.float_format = '{:.0f}'.format"
   ]
  },
  {
   "cell_type": "code",
   "execution_count": 2,
   "metadata": {},
   "outputs": [
    {
     "name": "stdout",
     "output_type": "stream",
     "text": [
      "Warning: Looks like you're using an outdated `kagglehub` version, please consider updating (latest version: 0.3.6)\n"
     ]
    }
   ],
   "source": [
    "import kagglehub\n",
    "path = kagglehub.dataset_download(\"rupakroy/online-payments-fraud-detection-dataset\")"
   ]
  },
  {
   "cell_type": "code",
   "execution_count": 3,
   "metadata": {},
   "outputs": [
    {
     "data": {
      "text/html": [
       "<div>\n",
       "<style scoped>\n",
       "    .dataframe tbody tr th:only-of-type {\n",
       "        vertical-align: middle;\n",
       "    }\n",
       "\n",
       "    .dataframe tbody tr th {\n",
       "        vertical-align: top;\n",
       "    }\n",
       "\n",
       "    .dataframe thead th {\n",
       "        text-align: right;\n",
       "    }\n",
       "</style>\n",
       "<table border=\"1\" class=\"dataframe\">\n",
       "  <thead>\n",
       "    <tr style=\"text-align: right;\">\n",
       "      <th></th>\n",
       "      <th>step</th>\n",
       "      <th>type</th>\n",
       "      <th>amount</th>\n",
       "      <th>nameOrig</th>\n",
       "      <th>oldbalanceOrg</th>\n",
       "      <th>newbalanceOrig</th>\n",
       "      <th>nameDest</th>\n",
       "      <th>oldbalanceDest</th>\n",
       "      <th>newbalanceDest</th>\n",
       "      <th>isFraud</th>\n",
       "      <th>isFlaggedFraud</th>\n",
       "    </tr>\n",
       "  </thead>\n",
       "  <tbody>\n",
       "    <tr>\n",
       "      <th>0</th>\n",
       "      <td>1</td>\n",
       "      <td>PAYMENT</td>\n",
       "      <td>9840</td>\n",
       "      <td>C1231006815</td>\n",
       "      <td>170136</td>\n",
       "      <td>160296</td>\n",
       "      <td>M1979787155</td>\n",
       "      <td>0</td>\n",
       "      <td>0</td>\n",
       "      <td>0</td>\n",
       "      <td>0</td>\n",
       "    </tr>\n",
       "    <tr>\n",
       "      <th>1</th>\n",
       "      <td>1</td>\n",
       "      <td>PAYMENT</td>\n",
       "      <td>1864</td>\n",
       "      <td>C1666544295</td>\n",
       "      <td>21249</td>\n",
       "      <td>19385</td>\n",
       "      <td>M2044282225</td>\n",
       "      <td>0</td>\n",
       "      <td>0</td>\n",
       "      <td>0</td>\n",
       "      <td>0</td>\n",
       "    </tr>\n",
       "    <tr>\n",
       "      <th>2</th>\n",
       "      <td>1</td>\n",
       "      <td>TRANSFER</td>\n",
       "      <td>181</td>\n",
       "      <td>C1305486145</td>\n",
       "      <td>181</td>\n",
       "      <td>0</td>\n",
       "      <td>C553264065</td>\n",
       "      <td>0</td>\n",
       "      <td>0</td>\n",
       "      <td>1</td>\n",
       "      <td>0</td>\n",
       "    </tr>\n",
       "    <tr>\n",
       "      <th>3</th>\n",
       "      <td>1</td>\n",
       "      <td>CASH_OUT</td>\n",
       "      <td>181</td>\n",
       "      <td>C840083671</td>\n",
       "      <td>181</td>\n",
       "      <td>0</td>\n",
       "      <td>C38997010</td>\n",
       "      <td>21182</td>\n",
       "      <td>0</td>\n",
       "      <td>1</td>\n",
       "      <td>0</td>\n",
       "    </tr>\n",
       "    <tr>\n",
       "      <th>4</th>\n",
       "      <td>1</td>\n",
       "      <td>PAYMENT</td>\n",
       "      <td>11668</td>\n",
       "      <td>C2048537720</td>\n",
       "      <td>41554</td>\n",
       "      <td>29886</td>\n",
       "      <td>M1230701703</td>\n",
       "      <td>0</td>\n",
       "      <td>0</td>\n",
       "      <td>0</td>\n",
       "      <td>0</td>\n",
       "    </tr>\n",
       "  </tbody>\n",
       "</table>\n",
       "</div>"
      ],
      "text/plain": [
       "   step      type  amount     nameOrig  oldbalanceOrg  newbalanceOrig  \\\n",
       "0     1   PAYMENT    9840  C1231006815         170136          160296   \n",
       "1     1   PAYMENT    1864  C1666544295          21249           19385   \n",
       "2     1  TRANSFER     181  C1305486145            181               0   \n",
       "3     1  CASH_OUT     181   C840083671            181               0   \n",
       "4     1   PAYMENT   11668  C2048537720          41554           29886   \n",
       "\n",
       "      nameDest  oldbalanceDest  newbalanceDest  isFraud  isFlaggedFraud  \n",
       "0  M1979787155               0               0        0               0  \n",
       "1  M2044282225               0               0        0               0  \n",
       "2   C553264065               0               0        1               0  \n",
       "3    C38997010           21182               0        1               0  \n",
       "4  M1230701703               0               0        0               0  "
      ]
     },
     "execution_count": 3,
     "metadata": {},
     "output_type": "execute_result"
    }
   ],
   "source": [
    "df = pd.read_csv(path + \"/PS_20174392719_1491204439457_log.csv\")\n",
    "df.head()"
   ]
  },
  {
   "cell_type": "markdown",
   "metadata": {},
   "source": [
    "## Exploratory Data Analysis"
   ]
  },
  {
   "cell_type": "markdown",
   "metadata": {},
   "source": [
    "### Explore general info and stats"
   ]
  },
  {
   "cell_type": "code",
   "execution_count": 4,
   "metadata": {},
   "outputs": [
    {
     "name": "stdout",
     "output_type": "stream",
     "text": [
      "<class 'pandas.core.frame.DataFrame'>\n",
      "RangeIndex: 6362620 entries, 0 to 6362619\n",
      "Data columns (total 11 columns):\n",
      " #   Column          Dtype  \n",
      "---  ------          -----  \n",
      " 0   step            int64  \n",
      " 1   type            object \n",
      " 2   amount          float64\n",
      " 3   nameOrig        object \n",
      " 4   oldbalanceOrg   float64\n",
      " 5   newbalanceOrig  float64\n",
      " 6   nameDest        object \n",
      " 7   oldbalanceDest  float64\n",
      " 8   newbalanceDest  float64\n",
      " 9   isFraud         int64  \n",
      " 10  isFlaggedFraud  int64  \n",
      "dtypes: float64(5), int64(3), object(3)\n",
      "memory usage: 534.0+ MB\n"
     ]
    }
   ],
   "source": [
    "df.info()"
   ]
  },
  {
   "cell_type": "code",
   "execution_count": 5,
   "metadata": {},
   "outputs": [
    {
     "data": {
      "text/html": [
       "<div>\n",
       "<style scoped>\n",
       "    .dataframe tbody tr th:only-of-type {\n",
       "        vertical-align: middle;\n",
       "    }\n",
       "\n",
       "    .dataframe tbody tr th {\n",
       "        vertical-align: top;\n",
       "    }\n",
       "\n",
       "    .dataframe thead th {\n",
       "        text-align: right;\n",
       "    }\n",
       "</style>\n",
       "<table border=\"1\" class=\"dataframe\">\n",
       "  <thead>\n",
       "    <tr style=\"text-align: right;\">\n",
       "      <th></th>\n",
       "      <th>step</th>\n",
       "      <th>amount</th>\n",
       "      <th>oldbalanceOrg</th>\n",
       "      <th>newbalanceOrig</th>\n",
       "      <th>oldbalanceDest</th>\n",
       "      <th>newbalanceDest</th>\n",
       "      <th>isFraud</th>\n",
       "      <th>isFlaggedFraud</th>\n",
       "    </tr>\n",
       "  </thead>\n",
       "  <tbody>\n",
       "    <tr>\n",
       "      <th>count</th>\n",
       "      <td>6362620</td>\n",
       "      <td>6362620</td>\n",
       "      <td>6362620</td>\n",
       "      <td>6362620</td>\n",
       "      <td>6362620</td>\n",
       "      <td>6362620</td>\n",
       "      <td>6362620</td>\n",
       "      <td>6362620</td>\n",
       "    </tr>\n",
       "    <tr>\n",
       "      <th>mean</th>\n",
       "      <td>243</td>\n",
       "      <td>179862</td>\n",
       "      <td>833883</td>\n",
       "      <td>855114</td>\n",
       "      <td>1100702</td>\n",
       "      <td>1224996</td>\n",
       "      <td>0</td>\n",
       "      <td>0</td>\n",
       "    </tr>\n",
       "    <tr>\n",
       "      <th>std</th>\n",
       "      <td>142</td>\n",
       "      <td>603858</td>\n",
       "      <td>2888243</td>\n",
       "      <td>2924049</td>\n",
       "      <td>3399180</td>\n",
       "      <td>3674129</td>\n",
       "      <td>0</td>\n",
       "      <td>0</td>\n",
       "    </tr>\n",
       "    <tr>\n",
       "      <th>min</th>\n",
       "      <td>1</td>\n",
       "      <td>0</td>\n",
       "      <td>0</td>\n",
       "      <td>0</td>\n",
       "      <td>0</td>\n",
       "      <td>0</td>\n",
       "      <td>0</td>\n",
       "      <td>0</td>\n",
       "    </tr>\n",
       "    <tr>\n",
       "      <th>25%</th>\n",
       "      <td>156</td>\n",
       "      <td>13390</td>\n",
       "      <td>0</td>\n",
       "      <td>0</td>\n",
       "      <td>0</td>\n",
       "      <td>0</td>\n",
       "      <td>0</td>\n",
       "      <td>0</td>\n",
       "    </tr>\n",
       "    <tr>\n",
       "      <th>50%</th>\n",
       "      <td>239</td>\n",
       "      <td>74872</td>\n",
       "      <td>14208</td>\n",
       "      <td>0</td>\n",
       "      <td>132706</td>\n",
       "      <td>214661</td>\n",
       "      <td>0</td>\n",
       "      <td>0</td>\n",
       "    </tr>\n",
       "    <tr>\n",
       "      <th>75%</th>\n",
       "      <td>335</td>\n",
       "      <td>208721</td>\n",
       "      <td>107315</td>\n",
       "      <td>144258</td>\n",
       "      <td>943037</td>\n",
       "      <td>1111909</td>\n",
       "      <td>0</td>\n",
       "      <td>0</td>\n",
       "    </tr>\n",
       "    <tr>\n",
       "      <th>max</th>\n",
       "      <td>743</td>\n",
       "      <td>92445517</td>\n",
       "      <td>59585040</td>\n",
       "      <td>49585040</td>\n",
       "      <td>356015889</td>\n",
       "      <td>356179279</td>\n",
       "      <td>1</td>\n",
       "      <td>1</td>\n",
       "    </tr>\n",
       "  </tbody>\n",
       "</table>\n",
       "</div>"
      ],
      "text/plain": [
       "         step   amount  oldbalanceOrg  newbalanceOrig  oldbalanceDest  \\\n",
       "count 6362620  6362620        6362620         6362620         6362620   \n",
       "mean      243   179862         833883          855114         1100702   \n",
       "std       142   603858        2888243         2924049         3399180   \n",
       "min         1        0              0               0               0   \n",
       "25%       156    13390              0               0               0   \n",
       "50%       239    74872          14208               0          132706   \n",
       "75%       335   208721         107315          144258          943037   \n",
       "max       743 92445517       59585040        49585040       356015889   \n",
       "\n",
       "       newbalanceDest  isFraud  isFlaggedFraud  \n",
       "count         6362620  6362620         6362620  \n",
       "mean          1224996        0               0  \n",
       "std           3674129        0               0  \n",
       "min                 0        0               0  \n",
       "25%                 0        0               0  \n",
       "50%            214661        0               0  \n",
       "75%           1111909        0               0  \n",
       "max         356179279        1               1  "
      ]
     },
     "execution_count": 5,
     "metadata": {},
     "output_type": "execute_result"
    }
   ],
   "source": [
    "df.describe()"
   ]
  },
  {
   "cell_type": "code",
   "execution_count": 6,
   "metadata": {},
   "outputs": [
    {
     "data": {
      "text/plain": [
       "step              0\n",
       "type              0\n",
       "amount            0\n",
       "nameOrig          0\n",
       "oldbalanceOrg     0\n",
       "newbalanceOrig    0\n",
       "nameDest          0\n",
       "oldbalanceDest    0\n",
       "newbalanceDest    0\n",
       "isFraud           0\n",
       "isFlaggedFraud    0\n",
       "dtype: int64"
      ]
     },
     "execution_count": 6,
     "metadata": {},
     "output_type": "execute_result"
    }
   ],
   "source": [
    "df.isnull().sum()"
   ]
  },
  {
   "cell_type": "code",
   "execution_count": null,
   "metadata": {},
   "outputs": [],
   "source": [
    "df.duplicated().sum()"
   ]
  },
  {
   "cell_type": "markdown",
   "metadata": {},
   "source": [
    "- Dataset has 11 columns and 6,362,620 rows\n",
    "- Dataset has 8 numerical columns and 3 categorical columns\n",
    "- Dataset has no missing values\n",
    "- Dataset has no duplicated rows\n",
    "- Except for the <code>isFraud</code> column, all numerical columns are positively skewed and mean is not a good measurement of central tendency to these data due to excessive standard deviation"
   ]
  },
  {
   "cell_type": "markdown",
   "metadata": {},
   "source": [
    "### Analysis of Target Column (isFraud)"
   ]
  },
  {
   "cell_type": "code",
   "execution_count": 7,
   "metadata": {},
   "outputs": [
    {
     "data": {
      "image/png": "[encoded data removed]",
      "text/plain": [
       "<Figure size 800x600 with 1 Axes>"
      ]
     },
     "metadata": {},
     "output_type": "display_data"
    }
   ],
   "source": [
    "plt.figure(figsize=(8, 6))\n",
    "ax = sns.countplot(x='isFraud', data=df)\n",
    "plt.title('Fraud vs Non-Fraud')\n",
    "total = len(df)\n",
    "for p in ax.patches:\n",
    "    percentage = '{:.4f}%'.format(100 * p.get_height()/total)\n",
    "    ax.annotate(percentage, (p.get_x() + p.get_width() / 2., p.get_height()),\n",
    "                ha='center', va='center', xytext=(0, 5),\n",
    "                textcoords='offset points')\n",
    "plt.show()"
   ]
  },
  {
   "cell_type": "code",
   "execution_count": 8,
   "metadata": {},
   "outputs": [
    {
     "data": {
      "text/plain": [
       "isFraud\n",
       "0    6354407\n",
       "1       8213\n",
       "Name: count, dtype: int64"
      ]
     },
     "execution_count": 8,
     "metadata": {},
     "output_type": "execute_result"
    }
   ],
   "source": [
    "df['isFraud'].value_counts()"
   ]
  },
  {
   "cell_type": "markdown",
   "metadata": {},
   "source": [
    "The data imbalance is really visible in the plot above. This is a common thing around us, considering that if you compare the number of fraud cases with the total number of transactions, the comparison will be very small. In terms of building a Machine Learning model to detect fraud, this kind of data distribution is a problem. But don't worry, this problem can be overcome with various sampling techniques."
   ]
  },
  {
   "cell_type": "markdown",
   "metadata": {},
   "source": [
    "### Analysis of Transaction Type"
   ]
  },
  {
   "cell_type": "code",
   "execution_count": 10,
   "metadata": {},
   "outputs": [
    {
     "data": {
      "text/html": [
       "<div>\n",
       "<style scoped>\n",
       "    .dataframe tbody tr th:only-of-type {\n",
       "        vertical-align: middle;\n",
       "    }\n",
       "\n",
       "    .dataframe tbody tr th {\n",
       "        vertical-align: top;\n",
       "    }\n",
       "\n",
       "    .dataframe thead th {\n",
       "        text-align: right;\n",
       "    }\n",
       "</style>\n",
       "<table border=\"1\" class=\"dataframe\">\n",
       "  <thead>\n",
       "    <tr style=\"text-align: right;\">\n",
       "      <th></th>\n",
       "      <th>isFraud</th>\n",
       "    </tr>\n",
       "    <tr>\n",
       "      <th>type</th>\n",
       "      <th></th>\n",
       "    </tr>\n",
       "  </thead>\n",
       "  <tbody>\n",
       "    <tr>\n",
       "      <th>CASH_IN</th>\n",
       "      <td>0</td>\n",
       "    </tr>\n",
       "    <tr>\n",
       "      <th>CASH_OUT</th>\n",
       "      <td>4116</td>\n",
       "    </tr>\n",
       "    <tr>\n",
       "      <th>DEBIT</th>\n",
       "      <td>0</td>\n",
       "    </tr>\n",
       "    <tr>\n",
       "      <th>PAYMENT</th>\n",
       "      <td>0</td>\n",
       "    </tr>\n",
       "    <tr>\n",
       "      <th>TRANSFER</th>\n",
       "      <td>4097</td>\n",
       "    </tr>\n",
       "  </tbody>\n",
       "</table>\n",
       "</div>"
      ],
      "text/plain": [
       "          isFraud\n",
       "type             \n",
       "CASH_IN         0\n",
       "CASH_OUT     4116\n",
       "DEBIT           0\n",
       "PAYMENT         0\n",
       "TRANSFER     4097"
      ]
     },
     "execution_count": 10,
     "metadata": {},
     "output_type": "execute_result"
    }
   ],
   "source": [
    "df[['type','isFraud']].groupby('type').sum()"
   ]
  },
  {
   "cell_type": "markdown",
   "metadata": {},
   "source": [
    "Most frauds occur in **cash out** and **transfer** transactions. This indicates that these types of transactions are more susceptible to fraudulent activities. While No fraud was detected in **cash in, debit**, and **payment** transactions in this dataset, suggesting that these transactions may inherently involve lower risk of fraudulent behavior."
   ]
  },
  {
   "cell_type": "code",
   "execution_count": 19,
   "metadata": {},
   "outputs": [],
   "source": [
    "cashout_transfer_df = df[['type','isFraud']].loc[(df['type'] == 'CASH_OUT') | (df['type'] == 'TRANSFER')]"
   ]
  },
  {
   "cell_type": "code",
   "execution_count": 23,
   "metadata": {},
   "outputs": [
    {
     "data": {
      "image/png": "[encoded data removed]",
      "text/plain": [
       "<Figure size 640x480 with 1 Axes>"
      ]
     },
     "metadata": {},
     "output_type": "display_data"
    }
   ],
   "source": [
    "ax=sns.countplot(data=cashout_transfer_df, x=\"type\", hue=\"isFraud\")\n",
    "for p in ax.patches:\n",
    "    ax.annotate(f'{int(p.get_height())}',\n",
    "                (p.get_x() + p.get_width() / 2, p.get_height()),\n",
    "                ha = 'center', fontsize=8, color='black', xytext=(0, 0), textcoords='offset points')\n",
    "plt.title(\"Fraud by type\")\n",
    "plt.show()"
   ]
  },
  {
   "cell_type": "markdown",
   "metadata": {},
   "source": [
    "### Analysis of Balance"
   ]
  },
  {
   "cell_type": "code",
   "execution_count": 38,
   "metadata": {},
   "outputs": [
    {
     "data": {
      "image/png": "[encoded data removed]",
      "text/plain": [
       "<Figure size 640x480 with 1 Axes>"
      ]
     },
     "metadata": {},
     "output_type": "display_data"
    }
   ],
   "source": [
    "# Balance before and after transaction for fraud\n",
    "fraud_df = df.loc[df['isFraud'] == 1]\n",
    "non_fraud_df = df.loc[df['isFraud'] == 0]\n",
    "sns.scatterplot(x='oldbalanceOrg', y='newbalanceOrig', data=fraud_df, color='red', label='Fraud')\n",
    "sns.scatterplot(x='oldbalanceOrg', y='newbalanceOrig', data=non_fraud_df, color='green', label='Non-Fraud')\n",
    "plt.title('Old Balance vs New Balance (Fraud)')\n",
    "plt.xlabel('Old Balance (Orig)')\n",
    "plt.ylabel('New Balance (Orig)')\n",
    "plt.show()\n"
   ]
  },
  {
   "cell_type": "markdown",
   "metadata": {},
   "source": [
    "The red (fraud) dots tend to be on a horizontal line where the New Balance is almost always close to zero, even though the Old Balance has a variety of values. This may indicate that fraudulent transactions often “drain” the balance to near zero, perhaps with the intention of cashing out completely."
   ]
  },
  {
   "cell_type": "code",
   "execution_count": 40,
   "metadata": {},
   "outputs": [
    {
     "name": "stdout",
     "output_type": "stream",
     "text": [
      "Transaksi aneh:\n",
      "      step      type  amount     nameOrig  oldbalanceOrg  newbalanceOrig  \\\n",
      "85      1  TRANSFER 1505626   C926859124              0               0   \n",
      "89      1  TRANSFER 1429051  C1520267010              0               0   \n",
      "94      1  TRANSFER 1724887  C1495608502              0               0   \n",
      "358     1  TRANSFER 1538200   C476579021              0               0   \n",
      "359     1  TRANSFER 2421578   C106297322              0               0   \n",
      "\n",
      "        nameDest  oldbalanceDest  newbalanceDest  isFraud  isFlaggedFraud  \n",
      "85    C665576141           29031         5515763        0               0  \n",
      "89   C1590550415         2041544        19169205        0               0  \n",
      "94   C1590550415         3470595        19169205        0               0  \n",
      "358  C1590550415         6977445        19169205        0               0  \n",
      "359  C1590550415         8515646        19169205        0               0  \n"
     ]
    },
    {
     "data": {
      "text/plain": [
       "64781"
      ]
     },
     "execution_count": 40,
     "metadata": {},
     "output_type": "execute_result"
    }
   ],
   "source": [
    "# Contoh transaksi aneh\n",
    "anomalies = df[(df['amount'] > 1000000) & (df['oldbalanceOrg'] == df['newbalanceOrig'])]\n",
    "print(\"Transaksi aneh:\\n\", anomalies.head())\n",
    "len(anomalies)"
   ]
  }
 ],
 "metadata": {
  "kernelspec": {
   "display_name": "Python 3",
   "language": "python",
   "name": "python3"
  },
  "language_info": {
   "codemirror_mode": {
    "name": "ipython",
    "version": 3
   },
   "file_extension": ".py",
   "mimetype": "text/x-python",
   "name": "python",
   "nbconvert_exporter": "python",
   "pygments_lexer": "ipython3",
   "version": "3.12.2"
  }
 },
 "nbformat": 4,
 "nbformat_minor": 2
}
